{
 "cells": [
  {
   "cell_type": "code",
   "execution_count": 14,
   "metadata": {},
   "outputs": [],
   "source": [
    "from qiskit import *"
   ]
  },
  {
   "cell_type": "code",
   "execution_count": 15,
   "metadata": {},
   "outputs": [
    {
     "data": {
      "text/html": [
       "<pre style=\"word-wrap: normal;white-space: pre;background: #fff0;line-height: 1.1;font-family: &quot;Courier New&quot;,Courier,monospace\">     \n",
       "q_0: \n",
       "     \n",
       "q_1: \n",
       "     \n",
       "q_2: \n",
       "     \n",
       "q_3: \n",
       "     \n",
       "q_4: \n",
       "     \n",
       "q_5: \n",
       "     \n",
       "q_6: \n",
       "     \n",
       "q_7: \n",
       "     \n",
       "a_0: \n",
       "     \n",
       "a_1: \n",
       "     \n",
       "a_2: \n",
       "     \n",
       "b_0: \n",
       "     \n",
       "b_1: \n",
       "     \n",
       "b_2: \n",
       "     \n",
       "c_0: \n",
       "     </pre>"
      ],
      "text/plain": [
       "     \n",
       "q_0: \n",
       "     \n",
       "q_1: \n",
       "     \n",
       "q_2: \n",
       "     \n",
       "q_3: \n",
       "     \n",
       "q_4: \n",
       "     \n",
       "q_5: \n",
       "     \n",
       "q_6: \n",
       "     \n",
       "q_7: \n",
       "     \n",
       "a_0: \n",
       "     \n",
       "a_1: \n",
       "     \n",
       "a_2: \n",
       "     \n",
       "b_0: \n",
       "     \n",
       "b_1: \n",
       "     \n",
       "b_2: \n",
       "     \n",
       "c_0: \n",
       "     "
      ]
     },
     "execution_count": 15,
     "metadata": {},
     "output_type": "execute_result"
    }
   ],
   "source": [
    "q = QuantumRegister(2*4, 'q')\n",
    "a = QuantumRegister(3, 'a')\n",
    "b = QuantumRegister(3, 'b')\n",
    "c = QuantumRegister(1, 'c')\n",
    "\n",
    "circuit = QuantumCircuit(q, a, b, c)\n",
    "\n",
    "circuit.draw()"
   ]
  },
  {
   "cell_type": "code",
   "execution_count": 17,
   "metadata": {},
   "outputs": [
    {
     "data": {
      "text/html": [
       "<pre style=\"word-wrap: normal;white-space: pre;background: #fff0;line-height: 1.1;font-family: &quot;Courier New&quot;,Courier,monospace\">               \n",
       "q_0: ──────────\n",
       "               \n",
       "q_1: ──────────\n",
       "               \n",
       "q_2: ──────────\n",
       "               \n",
       "q_3: ──────────\n",
       "               \n",
       "q_4: ──────────\n",
       "               \n",
       "q_5: ──────────\n",
       "               \n",
       "q_6: ──────────\n",
       "               \n",
       "q_7: ──────────\n",
       "               \n",
       "a_0: ──────────\n",
       "     ┌───┐┌───┐\n",
       "a_1: ┤ X ├┤ X ├\n",
       "     └───┘└───┘\n",
       "a_2: ──────────\n",
       "               \n",
       "b_0: ──────────\n",
       "               \n",
       "b_1: ──────────\n",
       "               \n",
       "b_2: ──────────\n",
       "               \n",
       "c_0: ──────────\n",
       "               </pre>"
      ],
      "text/plain": [
       "               \n",
       "q_0: ──────────\n",
       "               \n",
       "q_1: ──────────\n",
       "               \n",
       "q_2: ──────────\n",
       "               \n",
       "q_3: ──────────\n",
       "               \n",
       "q_4: ──────────\n",
       "               \n",
       "q_5: ──────────\n",
       "               \n",
       "q_6: ──────────\n",
       "               \n",
       "q_7: ──────────\n",
       "               \n",
       "a_0: ──────────\n",
       "     ┌───┐┌───┐\n",
       "a_1: ┤ X ├┤ X ├\n",
       "     └───┘└───┘\n",
       "a_2: ──────────\n",
       "               \n",
       "b_0: ──────────\n",
       "               \n",
       "b_1: ──────────\n",
       "               \n",
       "b_2: ──────────\n",
       "               \n",
       "c_0: ──────────\n",
       "               "
      ]
     },
     "execution_count": 17,
     "metadata": {},
     "output_type": "execute_result"
    }
   ],
   "source": [
    "circuit.x(a[1])\n",
    "circuit.draw()"
   ]
  },
  {
   "cell_type": "code",
   "execution_count": null,
   "metadata": {},
   "outputs": [],
   "source": []
  }
 ],
 "metadata": {
  "kernelspec": {
   "display_name": "Python 3",
   "language": "python",
   "name": "python3"
  },
  "language_info": {
   "codemirror_mode": {
    "name": "ipython",
    "version": 3
   },
   "file_extension": ".py",
   "mimetype": "text/x-python",
   "name": "python",
   "nbconvert_exporter": "python",
   "pygments_lexer": "ipython3",
   "version": "3.7.9"
  }
 },
 "nbformat": 4,
 "nbformat_minor": 4
}
